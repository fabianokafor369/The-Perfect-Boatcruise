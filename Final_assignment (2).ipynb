{
  "nbformat": 4,
  "nbformat_minor": 0,
  "metadata": {
    "colab": {
      "name": "Final_assignment.ipynb",
      "version": "0.3.2",
      "provenance": [],
      "collapsed_sections": []
    },
    "kernelspec": {
      "name": "python3",
      "display_name": "Python 3"
    }
  },
  "cells": [
    {
      "metadata": {
        "id": "LiqwlRCKdaEM",
        "colab_type": "code",
        "colab": {}
      },
      "cell_type": "code",
      "source": [
        "import numpy as np\n",
        "import names\n",
        "import random\n",
        "import cvxpy as cp\n",
        "import numpy.linalg as nl\n",
        "\n",
        "#Creating the random data\n",
        "naames ,aages, weight, gender, bid ,kids , celeb = [],[], [], [], [],[],[]\n",
        "\n",
        "for i in range(600):\n",
        "    naames.append(names.get_full_name())\n",
        "    aages.append(random.randint(18, 80))\n",
        "    weight.append(random.randint(40, 200))\n",
        "    gender.append(random.randint(0, 1))\n",
        "    t = random.randint(0, 4)\n",
        "    kids.append(t)\n",
        "    celeb.append(random.randint(0, 1))\n",
        "    if t > 2:\n",
        "        bid.append(random.randint(8000, 14000))\n",
        "    else:\n",
        "        bid.append(random.randint(4000, 10000))\n",
        "\n",
        "naames = np.array(naames)\n",
        "aages = np.array(aages)\n",
        "weight = np.array(weight)\n",
        "gender = np.array(gender)\n",
        "bid = np.array(bid)\n",
        "kids = np.array(kids)\n",
        "celeb = np.array(celeb)\n",
        "\n",
        "holder= []\n",
        "\n",
        "for i in range(600):\n",
        "    holder.append([naames[i], aages[i], weight[i], gender[i], bid[i], kids[i], celeb[i]])"
      ],
      "execution_count": 0,
      "outputs": []
    },
    {
      "metadata": {
        "id": "WOFrw86MX3a6",
        "colab_type": "code",
        "colab": {}
      },
      "cell_type": "code",
      "source": [
        "#Applying the Basic Optimization Solution\n",
        "import math\n",
        "\n",
        "X = cp.Variable(len(weight), boolean = True, integer = True)\n",
        "cash = bid.T*X\n",
        "\n",
        "constraints = [weight.T*X <= 1000, kids.T*X <= 50, celeb.T*X >= 10]\n",
        "prob = cp.Problem(cp.Maximize(cash), constraints)\n",
        "result = prob.solve()\n"
      ],
      "execution_count": 0,
      "outputs": []
    },
    {
      "metadata": {
        "id": "ImDdRKktwX74",
        "colab_type": "code",
        "colab": {}
      },
      "cell_type": "code",
      "source": [
        "indices = []\n",
        "\n",
        "for i in range(600):\n",
        "    if round((X.value[i]),5) >= 1.0:\n",
        "        indices.append(i)\n",
        "\n",
        "solution = np.array([holder[i] for i in indices])\n",
        "\n",
        "print([\"Name\", \"Age\", \"Weight\", \"Gender\", \"Bid\", \"Kids\", \"Celebrity\"])\n",
        "print(solution)\n",
        "\n",
        "totalkids, totalweight ,totalc ,totalcash = 0,0,0,0\n",
        "nweight = []\n",
        "nbid = []\n",
        "for i in solution:\n",
        "    totalkids += int(i[5])\n",
        "    totalweight += int(i[2])\n",
        "    totalcash += int(i[4])\n",
        "    totalc += int(i[-1])\n",
        "    nweight.append(i[2])\n",
        "    nbid.append(i[4])\n",
        "print(len(solution), \"people were selected with a total weight of \", totalweight, \"and a total of\", totalkids, \" kids and\", totalc ,\"celebrities\")\n",
        "print(\"Your total revenue is \", totalcash)\n"
      ],
      "execution_count": 0,
      "outputs": []
    },
    {
      "metadata": {
        "id": "pxsYkYg89b8n",
        "colab_type": "code",
        "colab": {}
      },
      "cell_type": "code",
      "source": [
        "#Applying the Weighted Solution for multi-objective optimization\n",
        "import sklearn.preprocessing as sk\n",
        "import math\n",
        "\n",
        "X = cp.Variable(len(weight), boolean = True, integer = True)\n",
        "\n",
        "cash = sk.scale(bid).T*X\n",
        "popularity = sk.scale(celeb).T*X\n",
        "damage = sk.scale(kids).T*X\n",
        "\n",
        "constraints = [weight.T*X <= 1000]\n",
        "prob = cp.Problem(cp.Maximize(0.6*cash + 0.2*popularity -0.2*damage), constraints)\n",
        "result = prob.solve()"
      ],
      "execution_count": 0,
      "outputs": []
    },
    {
      "metadata": {
        "id": "Pgo6ZV_tN-1A",
        "colab_type": "code",
        "colab": {}
      },
      "cell_type": "code",
      "source": [
        "indices = []\n",
        "\n",
        "for i in range(600):\n",
        "    if round((X.value[i]),5) >= 1.0:\n",
        "        indices.append(i)\n",
        "\n",
        "solution = np.array([holder[i] for i in indices])\n",
        "\n",
        "print([\"Name\", \"Age\", \"Weight\", \"Gender\", \"Bid\", \"Kids\", \"Celebrity\"])\n",
        "print(solution)\n",
        "\n",
        "totalkids, totalweight ,totalc ,totalcash = 0,0,0,0\n",
        "nweight = []\n",
        "nbid = []\n",
        "for i in solution:\n",
        "    totalkids += int(i[5])\n",
        "    totalweight += int(i[2])\n",
        "    totalcash += int(i[4])\n",
        "    totalc += int(i[-1])\n",
        "    nweight.append(i[2])\n",
        "    nbid.append(i[4])\n",
        "print(len(solution), \"people were selected with a total weight of \", totalweight, \"and a total of\", totalkids, \" kids and\", totalc ,\"celebrities\")\n",
        "print(\"Your total revenue is \", totalcash)\n"
      ],
      "execution_count": 0,
      "outputs": []
    },
    {
      "metadata": {
        "id": "KHomy_vhUCaZ",
        "colab_type": "code",
        "colab": {}
      },
      "cell_type": "code",
      "source": [
        "#Applying the combined optimization technique\n",
        "import sklearn.preprocessing as sk\n",
        "import math\n",
        "\n",
        "X = cp.Variable(len(weight), boolean = True, integer = True)\n",
        "\n",
        "cash = sk.scale(bid).T*X\n",
        "popularity = sk.scale(celeb).T*X\n",
        "damage = sk.scale(kids).T*X\n",
        "\n",
        "constraints = [weight.T*X <= 1000, sk.scale(kids).T*X <= (50-np.mean(kids))/nl.norm(kids, 2), sk.scale(celeb).T*X >= (10-np.mean(celeb))/nl.norm(celeb, 2)]\n",
        "prob = cp.Problem(cp.Maximize(0.6*cash + 0.2*popularity -0.2*damage), constraints)\n",
        "result = prob.solve()\n"
      ],
      "execution_count": 0,
      "outputs": []
    },
    {
      "metadata": {
        "id": "HvHYoSqqUCm-",
        "colab_type": "code",
        "colab": {}
      },
      "cell_type": "code",
      "source": [
        "indices = []\n",
        "\n",
        "for i in range(600):\n",
        "    if round((X.value[i]),5) >= 1.0:\n",
        "        indices.append(i)\n",
        "\n",
        "solution = np.array([holder[i] for i in indices])\n",
        "\n",
        "print([\"Name\", \"Age\", \"Weight\", \"Gender\", \"Bid\", \"Kids\", \"Celebrity\"])\n",
        "print(solution)\n",
        "\n",
        "totalkids, totalweight ,totalc ,totalcash = 0,0,0,0\n",
        "nweight = []\n",
        "nbid = []\n",
        "for i in solution:\n",
        "    totalkids += int(i[5])\n",
        "    totalweight += int(i[2])\n",
        "    totalcash += int(i[4])\n",
        "    totalc += int(i[-1])\n",
        "    nweight.append(i[2])\n",
        "    nbid.append(i[4])\n",
        "print(len(solution), \"people were selected with a total weight of \", totalweight, \"and a total of\", totalkids, \" kids and\", totalc ,\"celebrities\")\n",
        "print(\"Your total revenue is \", totalcash)\n"
      ],
      "execution_count": 0,
      "outputs": []
    }
  ]
}