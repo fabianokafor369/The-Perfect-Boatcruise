{
  "nbformat": 4,
  "nbformat_minor": 0,
  "metadata": {
    "colab": {
      "name": "Final assignment",
      "version": "0.3.2",
      "provenance": [],
      "collapsed_sections": []
    },
    "kernelspec": {
      "name": "python3",
      "display_name": "Python 3"
    }
  },
  "cells": [
    {
      "metadata": {
        "id": "LiqwlRCKdaEM",
        "colab_type": "code",
        "colab": {}
      },
      "cell_type": "code",
      "source": [
        "import numpy as np\n",
        "import names\n",
        "import random\n",
        "import cvxpy as cp\n",
        "import numpy.linalg as nl\n",
        "\n",
        "naames ,aages, weight, gender, bid ,kids , celeb = [],[], [], [], [],[],[]\n",
        "\n",
        "for i in range(600):\n",
        "    naames.append(names.get_full_name())\n",
        "    aages.append(random.randint(18, 80))\n",
        "    weight.append(random.randint(40, 200))\n",
        "    gender.append(random.randint(0, 1))\n",
        "    t = random.randint(0, 4)\n",
        "    kids.append(t)\n",
        "    celeb.append(random.randint(0, 1))\n",
        "    if t > 2:\n",
        "        bid.append(random.randint(8000, 14000))\n",
        "    else:\n",
        "        bid.append(random.randint(4000, 10000))\n",
        "\n",
        "naames = np.array(naames)\n",
        "aages = np.array(aages)\n",
        "weight = np.array(weight)\n",
        "gender = np.array(gender)\n",
        "bid = np.array(bid)\n",
        "kids = np.array(kids)\n",
        "celeb = np.array(celeb)\n",
        "\n",
        "holder= []\n",
        "\n",
        "for i in range(600):\n",
        "    holder.append([naames[i], aages[i], weight[i], gender[i], bid[i], kids[i], celeb[i]])"
      ],
      "execution_count": 0,
      "outputs": []
    },
    {
      "metadata": {
        "id": "WOFrw86MX3a6",
        "colab_type": "code",
        "colab": {}
      },
      "cell_type": "code",
      "source": [
        "import math\n",
        "\n",
        "X = cp.Variable(len(weight), boolean = True, integer = True)\n",
        "cash = bid.T*X\n",
        "\n",
        "constraints = [weight.T*X <= 1000, kids.T*X <= 50, celeb.T*X >= 10]\n",
        "prob = cp.Problem(cp.Maximize(cash), constraints)\n",
        "result = prob.solve()\n"
      ],
      "execution_count": 0,
      "outputs": []
    },
    {
      "metadata": {
        "id": "ImDdRKktwX74",
        "colab_type": "code",
        "colab": {
          "base_uri": "https://localhost:8080/",
          "height": 420
        },
        "outputId": "fa5da20b-86d8-4d25-b0c6-71f7d64392bc"
      },
      "cell_type": "code",
      "source": [
        "indices = []\n",
        "\n",
        "for i in range(600):\n",
        "    if round((X.value[i]),5) >= 1.0:\n",
        "        indices.append(i)\n",
        "\n",
        "solution = np.array([holder[i] for i in indices])\n",
        "\n",
        "print([\"Name\", \"Age\", \"Weight\", \"Gender\", \"Bid\", \"Kids\", \"Celebrity\"])\n",
        "print(solution)\n",
        "\n",
        "totalkids, totalweight ,totalc ,totalcash = 0,0,0,0\n",
        "nweight = []\n",
        "nbid = []\n",
        "for i in solution:\n",
        "    totalkids += int(i[5])\n",
        "    totalweight += int(i[2])\n",
        "    totalcash += int(i[4])\n",
        "    totalc += int(i[-1])\n",
        "    nweight.append(i[2])\n",
        "    nbid.append(i[4])\n",
        "print(len(solution), \"people were selected with a total weight of \", totalweight, \"and a total of\", totalkids, \" kids and\", totalc ,\"celebrities\")\n",
        "print(\"Your total revenue is \", totalcash)\n"
      ],
      "execution_count": 20,
      "outputs": [
        {
          "output_type": "stream",
          "text": [
            "['Name', 'Age', 'Weight', 'Gender', 'Bid', 'Kids', 'Celebrity']\n",
            "[['Alberto Lapierre' '32' '46' '0' '9033' '1' '1']\n",
            " ['Martha Cobos' '29' '53' '1' '12912' '4' '0']\n",
            " ['Barbara Tewksbury' '25' '46' '1' '9359' '1' '1']\n",
            " ['Jorge Porter' '41' '44' '1' '13619' '4' '0']\n",
            " ['William French' '29' '62' '1' '13533' '3' '1']\n",
            " ['Jeremy Vise' '76' '42' '0' '9166' '3' '1']\n",
            " ['Vanessa Dupont' '32' '41' '0' '8755' '3' '1']\n",
            " ['Lisa Serrano' '77' '43' '1' '7901' '1' '0']\n",
            " ['Cheryl Debruyn' '29' '41' '0' '13557' '3' '0']\n",
            " ['Kenneth Medel' '33' '55' '1' '13716' '4' '1']\n",
            " ['James Coutts' '76' '45' '1' '8378' '0' '1']\n",
            " ['James Oliveira' '40' '40' '1' '13783' '4' '1']\n",
            " ['Bonnie Smith' '45' '49' '0' '13305' '4' '0']\n",
            " ['Ella Smith' '34' '53' '0' '12673' '4' '0']\n",
            " ['Milo Nau' '55' '47' '0' '13691' '3' '1']\n",
            " ['Kathryn Emmons' '32' '64' '1' '13292' '4' '0']\n",
            " ['Leann Henning' '51' '40' '0' '8268' '0' '0']\n",
            " ['Jose Rader' '36' '47' '0' '9873' '1' '1']\n",
            " ['Jason Watkins' '72' '40' '1' '7192' '0' '1']\n",
            " ['Frances Vargas' '39' '58' '1' '12984' '3' '0']\n",
            " ['Phyllis Juneau' '31' '44' '0' '9500' '0' '0']]\n",
            "21 people were selected with a total weight of  1000 and a total of 50  kids and 11 celebrities\n",
            "Your total revenue is  234490\n"
          ],
          "name": "stdout"
        }
      ]
    },
    {
      "metadata": {
        "id": "pxsYkYg89b8n",
        "colab_type": "code",
        "colab": {
          "base_uri": "https://localhost:8080/",
          "height": 138
        },
        "outputId": "4937a650-93de-4e7c-e4d2-87ccc248aedc"
      },
      "cell_type": "code",
      "source": [
        "import sklearn.preprocessing as sk\n",
        "import math\n",
        "\n",
        "X = cp.Variable(len(weight), boolean = True, integer = True)\n",
        "\n",
        "cash = sk.scale(bid).T*X\n",
        "popularity = sk.scale(celeb).T*X\n",
        "damage = sk.scale(kids).T*X\n",
        "\n",
        "constraints = [weight.T*X <= 1000]\n",
        "prob = cp.Problem(cp.Maximize(0.6*cash + 0.2*popularity -0.2*damage), constraints)\n",
        "result = prob.solve()"
      ],
      "execution_count": 21,
    },
    {
      "metadata": {
        "id": "Pgo6ZV_tN-1A",
        "colab_type": "code",
        "colab": {
          "base_uri": "https://localhost:8080/",
          "height": 356
        },
        "outputId": "344bc23f-f1ba-4034-fe39-e061aa0ab6bb"
      },
      "cell_type": "code",
      "source": [
        "indices = []\n",
        "\n",
        "for i in range(600):\n",
        "    if round((X.value[i]),5) >= 1.0:\n",
        "        indices.append(i)\n",
        "\n",
        "solution = np.array([holder[i] for i in indices])\n",
        "\n",
        "print([\"Name\", \"Age\", \"Weight\", \"Gender\", \"Bid\", \"Kids\", \"Celebrity\"])\n",
        "print(solution)\n",
        "\n",
        "totalkids, totalweight ,totalc ,totalcash = 0,0,0,0\n",
        "nweight = []\n",
        "nbid = []\n",
        "for i in solution:\n",
        "    totalkids += int(i[5])\n",
        "    totalweight += int(i[2])\n",
        "    totalcash += int(i[4])\n",
        "    totalc += int(i[-1])\n",
        "    nweight.append(i[2])\n",
        "    nbid.append(i[4])\n",
        "print(len(solution), \"people were selected with a total weight of \", totalweight, \"and a total of\", totalkids, \" kids and\", totalc ,\"celebrities\")\n",
        "print(\"Your total revenue is \", totalcash)\n"
      ],
      "execution_count": 22,
      "outputs": [
        {
          "output_type": "stream",
          "text": [
            "['Name', 'Age', 'Weight', 'Gender', 'Bid', 'Kids', 'Celebrity']\n",
            "[['Mary Johnson' '36' '73' '1' '12446' '3' '1']\n",
            " ['Jorge Porter' '41' '44' '1' '13619' '4' '0']\n",
            " ['Richard Terry' '56' '90' '0' '13368' '3' '1']\n",
            " ['William French' '29' '62' '1' '13533' '3' '1']\n",
            " ['Warren Hibbard' '78' '93' '1' '13676' '3' '1']\n",
            " ['Hilda Wesley' '28' '77' '1' '13473' '3' '1']\n",
            " ['Cheryl Debruyn' '29' '41' '0' '13557' '3' '0']\n",
            " ['Kenneth Medel' '33' '55' '1' '13716' '4' '1']\n",
            " ['James Oliveira' '40' '40' '1' '13783' '4' '1']\n",
            " ['Bonnie Smith' '45' '49' '0' '13305' '4' '0']\n",
            " ['Milo Nau' '55' '47' '0' '13691' '3' '1']\n",
            " ['Herbert Garofalo' '18' '64' '1' '13194' '4' '1']\n",
            " ['Sandra Lyons' '46' '70' '0' '13223' '4' '1']\n",
            " ['Jose Rader' '36' '47' '0' '9873' '1' '1']\n",
            " ['Charles Beauchemin' '41' '77' '1' '13721' '3' '1']\n",
            " ['Lola Wright' '50' '69' '0' '13887' '3' '0']]\n",
            "16 people were selected with a total weight of  998 and a total of 52  kids and 12 celebrities\n",
            "Your total revenue is  212065\n"
          ],
          "name": "stdout"
        }
      ]
    },
    {
      "metadata": {
        "id": "KHomy_vhUCaZ",
        "colab_type": "code",
        "colab": {
          "base_uri": "https://localhost:8080/",
          "height": 205
        },
        "outputId": "127cd270-6e3d-47d4-952b-5dd89196938d"
      },
      "cell_type": "code",
      "source": [
        "import sklearn.preprocessing as sk\n",
        "import math\n",
        "\n",
        "X = cp.Variable(len(weight), boolean = True, integer = True)\n",
        "\n",
        "cash = sk.scale(bid).T*X\n",
        "popularity = sk.scale(celeb).T*X\n",
        "damage = sk.scale(kids).T*X\n",
        "\n",
        "constraints = [weight.T*X <= 1000, sk.scale(kids).T*X <= (50-np.mean(kids))/nl.norm(kids, 2), sk.scale(celeb).T*X >= (10-np.mean(celeb))/nl.norm(celeb, 2)]\n",
        "prob = cp.Problem(cp.Maximize(0.6*cash + 0.2*popularity -0.2*damage), constraints)\n",
        "result = prob.solve()\n"
      ],
      "execution_count": 23,
      "outputs": [
        {
          "output_type": "stream",
          "text": [
            "/usr/local/lib/python3.6/dist-packages/sklearn/utils/validation.py:595: DataConversionWarning: Data with input dtype int64 was converted to float64 by the scale function.\n",
            "  warnings.warn(msg, DataConversionWarning)\n",
            "/usr/local/lib/python3.6/dist-packages/sklearn/utils/validation.py:595: DataConversionWarning: Data with input dtype int64 was converted to float64 by the scale function.\n",
            "  warnings.warn(msg, DataConversionWarning)\n",
            "/usr/local/lib/python3.6/dist-packages/sklearn/utils/validation.py:595: DataConversionWarning: Data with input dtype int64 was converted to float64 by the scale function.\n",
            "  warnings.warn(msg, DataConversionWarning)\n",
            "/usr/local/lib/python3.6/dist-packages/sklearn/utils/validation.py:595: DataConversionWarning: Data with input dtype int64 was converted to float64 by the scale function.\n",
            "  warnings.warn(msg, DataConversionWarning)\n",
            "/usr/local/lib/python3.6/dist-packages/sklearn/utils/validation.py:595: DataConversionWarning: Data with input dtype int64 was converted to float64 by the scale function.\n",
            "  warnings.warn(msg, DataConversionWarning)\n"
          ],
          "name": "stderr"
        }
      ]
    },
    {
      "metadata": {
        "id": "HvHYoSqqUCm-",
        "colab_type": "code",
        "colab": {
          "base_uri": "https://localhost:8080/",
          "height": 356
        },
        "outputId": "073d5a61-394b-426b-f93c-7a17bc44220d"
      },
      "cell_type": "code",
      "source": [
        "indices = []\n",
        "\n",
        "for i in range(600):\n",
        "    if round((X.value[i]),5) >= 1.0:\n",
        "        indices.append(i)\n",
        "\n",
        "solution = np.array([holder[i] for i in indices])\n",
        "\n",
        "print([\"Name\", \"Age\", \"Weight\", \"Gender\", \"Bid\", \"Kids\", \"Celebrity\"])\n",
        "print(solution)\n",
        "\n",
        "totalkids, totalweight ,totalc ,totalcash = 0,0,0,0\n",
        "nweight = []\n",
        "nbid = []\n",
        "for i in solution:\n",
        "    totalkids += int(i[5])\n",
        "    totalweight += int(i[2])\n",
        "    totalcash += int(i[4])\n",
        "    totalc += int(i[-1])\n",
        "    nweight.append(i[2])\n",
        "    nbid.append(i[4])\n",
        "print(len(solution), \"people were selected with a total weight of \", totalweight, \"and a total of\", totalkids, \" kids and\", totalc ,\"celebrities\")\n",
        "print(\"Your total revenue is \", totalcash)\n"
      ],
      "execution_count": 24,
      "outputs": [
        {
          "output_type": "stream",
          "text": [
            "['Name', 'Age', 'Weight', 'Gender', 'Bid', 'Kids', 'Celebrity']\n",
            "[['Alberto Lapierre' '32' '46' '0' '9033' '1' '1']\n",
            " ['Barbara Tewksbury' '25' '46' '1' '9359' '1' '1']\n",
            " ['Richard Terry' '56' '90' '0' '13368' '3' '1']\n",
            " ['William French' '29' '62' '1' '13533' '3' '1']\n",
            " ['Warren Hibbard' '78' '93' '1' '13676' '3' '1']\n",
            " ['Terrence Irizarry' '42' '85' '0' '9659' '0' '1']\n",
            " ['Hilda Wesley' '28' '77' '1' '13473' '3' '1']\n",
            " ['Cheryl Debruyn' '29' '41' '0' '13557' '3' '0']\n",
            " ['Kenneth Medel' '33' '55' '1' '13716' '4' '1']\n",
            " ['James Oliveira' '40' '40' '1' '13783' '4' '1']\n",
            " ['Milo Nau' '55' '47' '0' '13691' '3' '1']\n",
            " ['Deangelo Duell' '76' '56' '0' '9833' '1' '1']\n",
            " ['Jose Rader' '36' '47' '0' '9873' '1' '1']\n",
            " ['Charles Beauchemin' '41' '77' '1' '13721' '3' '1']\n",
            " ['Phyllis Juneau' '31' '44' '0' '9500' '0' '0']\n",
            " ['Viola Sigrist' '76' '49' '0' '9437' '1' '1']]\n",
            "16 people were selected with a total weight of  955 and a total of 34  kids and 14 celebrities\n",
            "Your total revenue is  189212\n"
          ],
          "name": "stdout"
        }
      ]
    }
  ]
}
